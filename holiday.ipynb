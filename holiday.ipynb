{
 "cells": [
  {
   "cell_type": "markdown",
   "id": "66c9b663-9617-4284-9c0c-ec3b2d7d81cd",
   "metadata": {
    "tags": []
   },
   "source": [
    "# 60201561 김아영\n",
    "\n",
    "# 공휴일 전날과 식계 (중식, 석식) 분석"
   ]
  },
  {
   "cell_type": "code",
   "execution_count": 40,
   "id": "31abde83-33fb-4dcc-b53f-6e5267da0e3f",
   "metadata": {},
   "outputs": [],
   "source": [
    "import warnings\n",
    "warnings.filterwarnings(action='ignore')"
   ]
  },
  {
   "cell_type": "code",
   "execution_count": 4,
   "id": "39a91cd1-19f8-4036-9fe2-12fbbd468a8d",
   "metadata": {},
   "outputs": [],
   "source": [
    "import io\n",
    "import pandas as pd\n",
    "import matplotlib as mpl\n",
    "import matplotlib.pylab as plt\n",
    "import matplotlib.pyplot as plt\n",
    "import matplotlib.font_manager as fm\n",
    "from matplotlib import rc\n",
    "import numpy as np\n",
    "import seaborn as sns"
   ]
  },
  {
   "cell_type": "code",
   "execution_count": 5,
   "id": "6dda601e-54ab-4afc-b9df-290b83a97b75",
   "metadata": {},
   "outputs": [],
   "source": [
    "plt.rc('font', family='NanumGothicBold') "
   ]
  },
  {
   "cell_type": "markdown",
   "id": "ecacdf7a-b9b3-4a8e-9a16-5ec813963267",
   "metadata": {},
   "source": [
    "데이터 불러오기"
   ]
  },
  {
   "cell_type": "code",
   "execution_count": 6,
   "id": "7e9b28a6-1a96-4ce5-bb46-7ce2dc9a2917",
   "metadata": {},
   "outputs": [],
   "source": [
    "train=pd.read_csv('train.csv')\n",
    "test=pd.read_csv('test.csv')\n",
    "data=pd.concat([train, test], axis=0)"
   ]
  },
  {
   "cell_type": "code",
   "execution_count": 7,
   "id": "60b510e6-de2a-4191-a3ed-ec3ad6c4b94d",
   "metadata": {},
   "outputs": [],
   "source": [
    "data=data.reset_index(drop=True)"
   ]
  },
  {
   "cell_type": "code",
   "execution_count": 8,
   "id": "66635b2b-5ad7-4847-bfc7-5502d09191c0",
   "metadata": {},
   "outputs": [
    {
     "data": {
      "text/html": [
       "<div>\n",
       "<style scoped>\n",
       "    .dataframe tbody tr th:only-of-type {\n",
       "        vertical-align: middle;\n",
       "    }\n",
       "\n",
       "    .dataframe tbody tr th {\n",
       "        vertical-align: top;\n",
       "    }\n",
       "\n",
       "    .dataframe thead th {\n",
       "        text-align: right;\n",
       "    }\n",
       "</style>\n",
       "<table border=\"1\" class=\"dataframe\">\n",
       "  <thead>\n",
       "    <tr style=\"text-align: right;\">\n",
       "      <th></th>\n",
       "      <th>일자</th>\n",
       "      <th>요일</th>\n",
       "      <th>본사정원수</th>\n",
       "      <th>본사휴가자수</th>\n",
       "      <th>본사출장자수</th>\n",
       "      <th>본사시간외근무명령서승인건수</th>\n",
       "      <th>현본사소속재택근무자수</th>\n",
       "      <th>조식메뉴</th>\n",
       "      <th>중식메뉴</th>\n",
       "      <th>석식메뉴</th>\n",
       "      <th>중식계</th>\n",
       "      <th>석식계</th>\n",
       "    </tr>\n",
       "  </thead>\n",
       "  <tbody>\n",
       "    <tr>\n",
       "      <th>0</th>\n",
       "      <td>2016-02-01</td>\n",
       "      <td>월</td>\n",
       "      <td>2601</td>\n",
       "      <td>50</td>\n",
       "      <td>150</td>\n",
       "      <td>238</td>\n",
       "      <td>0.0</td>\n",
       "      <td>모닝롤/찐빵  우유/두유/주스 계란후라이  호두죽/쌀밥 (쌀:국내산) 된장찌개  쥐...</td>\n",
       "      <td>쌀밥/잡곡밥 (쌀,현미흑미:국내산) 오징어찌개  쇠불고기 (쇠고기:호주산) 계란찜 ...</td>\n",
       "      <td>쌀밥/잡곡밥 (쌀,현미흑미:국내산) 육개장  자반고등어구이  두부조림  건파래무침 ...</td>\n",
       "      <td>1039.0</td>\n",
       "      <td>331.0</td>\n",
       "    </tr>\n",
       "    <tr>\n",
       "      <th>1</th>\n",
       "      <td>2016-02-02</td>\n",
       "      <td>화</td>\n",
       "      <td>2601</td>\n",
       "      <td>50</td>\n",
       "      <td>173</td>\n",
       "      <td>319</td>\n",
       "      <td>0.0</td>\n",
       "      <td>모닝롤/단호박샌드  우유/두유/주스 계란후라이  팥죽/쌀밥 (쌀:국내산) 호박젓국찌...</td>\n",
       "      <td>쌀밥/잡곡밥 (쌀,현미흑미:국내산) 김치찌개  가자미튀김  모둠소세지구이  마늘쫑무...</td>\n",
       "      <td>콩나물밥*양념장 (쌀,현미흑미:국내산) 어묵국  유산슬 (쇠고기:호주산) 아삭고추무...</td>\n",
       "      <td>867.0</td>\n",
       "      <td>560.0</td>\n",
       "    </tr>\n",
       "    <tr>\n",
       "      <th>2</th>\n",
       "      <td>2016-02-03</td>\n",
       "      <td>수</td>\n",
       "      <td>2601</td>\n",
       "      <td>56</td>\n",
       "      <td>180</td>\n",
       "      <td>111</td>\n",
       "      <td>0.0</td>\n",
       "      <td>모닝롤/베이글  우유/두유/주스 계란후라이  표고버섯죽/쌀밥 (쌀:국내산) 콩나물국...</td>\n",
       "      <td>카레덮밥 (쌀,현미흑미:국내산) 팽이장국  치킨핑거 (닭고기:국내산) 쫄면야채무침 ...</td>\n",
       "      <td>쌀밥/잡곡밥 (쌀,현미흑미:국내산) 청국장찌개  황태양념구이 (황태:러시아산) 고기...</td>\n",
       "      <td>1017.0</td>\n",
       "      <td>573.0</td>\n",
       "    </tr>\n",
       "    <tr>\n",
       "      <th>3</th>\n",
       "      <td>2016-02-04</td>\n",
       "      <td>목</td>\n",
       "      <td>2601</td>\n",
       "      <td>104</td>\n",
       "      <td>220</td>\n",
       "      <td>355</td>\n",
       "      <td>0.0</td>\n",
       "      <td>모닝롤/토마토샌드  우유/두유/주스 계란후라이  닭죽/쌀밥 (쌀,닭:국내산) 근대국...</td>\n",
       "      <td>쌀밥/잡곡밥 (쌀,현미흑미:국내산) 쇠고기무국  주꾸미볶음  부추전  시금치나물  ...</td>\n",
       "      <td>미니김밥*겨자장 (쌀,현미흑미:국내산) 우동  멕시칸샐러드  군고구마  무피클  포...</td>\n",
       "      <td>978.0</td>\n",
       "      <td>525.0</td>\n",
       "    </tr>\n",
       "    <tr>\n",
       "      <th>4</th>\n",
       "      <td>2016-02-05</td>\n",
       "      <td>금</td>\n",
       "      <td>2601</td>\n",
       "      <td>278</td>\n",
       "      <td>181</td>\n",
       "      <td>34</td>\n",
       "      <td>0.0</td>\n",
       "      <td>모닝롤/와플  우유/두유/주스 계란후라이  쇠고기죽/쌀밥 (쌀:국내산) 재첩국  방...</td>\n",
       "      <td>쌀밥/잡곡밥 (쌀,현미흑미:국내산) 떡국  돈육씨앗강정 (돼지고기:국내산) 우엉잡채...</td>\n",
       "      <td>쌀밥/잡곡밥 (쌀,현미흑미:국내산) 차돌박이찌개 (쇠고기:호주산) 닭갈비 (닭고기:...</td>\n",
       "      <td>925.0</td>\n",
       "      <td>330.0</td>\n",
       "    </tr>\n",
       "  </tbody>\n",
       "</table>\n",
       "</div>"
      ],
      "text/plain": [
       "           일자 요일  본사정원수  본사휴가자수  본사출장자수  본사시간외근무명령서승인건수  현본사소속재택근무자수  \\\n",
       "0  2016-02-01  월   2601      50     150             238          0.0   \n",
       "1  2016-02-02  화   2601      50     173             319          0.0   \n",
       "2  2016-02-03  수   2601      56     180             111          0.0   \n",
       "3  2016-02-04  목   2601     104     220             355          0.0   \n",
       "4  2016-02-05  금   2601     278     181              34          0.0   \n",
       "\n",
       "                                                조식메뉴  \\\n",
       "0  모닝롤/찐빵  우유/두유/주스 계란후라이  호두죽/쌀밥 (쌀:국내산) 된장찌개  쥐...   \n",
       "1  모닝롤/단호박샌드  우유/두유/주스 계란후라이  팥죽/쌀밥 (쌀:국내산) 호박젓국찌...   \n",
       "2  모닝롤/베이글  우유/두유/주스 계란후라이  표고버섯죽/쌀밥 (쌀:국내산) 콩나물국...   \n",
       "3  모닝롤/토마토샌드  우유/두유/주스 계란후라이  닭죽/쌀밥 (쌀,닭:국내산) 근대국...   \n",
       "4  모닝롤/와플  우유/두유/주스 계란후라이  쇠고기죽/쌀밥 (쌀:국내산) 재첩국  방...   \n",
       "\n",
       "                                                중식메뉴  \\\n",
       "0  쌀밥/잡곡밥 (쌀,현미흑미:국내산) 오징어찌개  쇠불고기 (쇠고기:호주산) 계란찜 ...   \n",
       "1  쌀밥/잡곡밥 (쌀,현미흑미:국내산) 김치찌개  가자미튀김  모둠소세지구이  마늘쫑무...   \n",
       "2  카레덮밥 (쌀,현미흑미:국내산) 팽이장국  치킨핑거 (닭고기:국내산) 쫄면야채무침 ...   \n",
       "3  쌀밥/잡곡밥 (쌀,현미흑미:국내산) 쇠고기무국  주꾸미볶음  부추전  시금치나물  ...   \n",
       "4  쌀밥/잡곡밥 (쌀,현미흑미:국내산) 떡국  돈육씨앗강정 (돼지고기:국내산) 우엉잡채...   \n",
       "\n",
       "                                                석식메뉴     중식계    석식계  \n",
       "0  쌀밥/잡곡밥 (쌀,현미흑미:국내산) 육개장  자반고등어구이  두부조림  건파래무침 ...  1039.0  331.0  \n",
       "1  콩나물밥*양념장 (쌀,현미흑미:국내산) 어묵국  유산슬 (쇠고기:호주산) 아삭고추무...   867.0  560.0  \n",
       "2  쌀밥/잡곡밥 (쌀,현미흑미:국내산) 청국장찌개  황태양념구이 (황태:러시아산) 고기...  1017.0  573.0  \n",
       "3  미니김밥*겨자장 (쌀,현미흑미:국내산) 우동  멕시칸샐러드  군고구마  무피클  포...   978.0  525.0  \n",
       "4  쌀밥/잡곡밥 (쌀,현미흑미:국내산) 차돌박이찌개 (쇠고기:호주산) 닭갈비 (닭고기:...   925.0  330.0  "
      ]
     },
     "execution_count": 8,
     "metadata": {},
     "output_type": "execute_result"
    }
   ],
   "source": [
    "data.head()"
   ]
  },
  {
   "cell_type": "markdown",
   "id": "8a0ab270-d8c5-457c-a1be-48f83500a242",
   "metadata": {},
   "source": [
    "출근자 수 칼럼 추가"
   ]
  },
  {
   "cell_type": "code",
   "execution_count": 9,
   "id": "880e2195-0d73-4b84-8aa7-60d738d63fe5",
   "metadata": {},
   "outputs": [],
   "source": [
    "data['출근자수']=data['본사정원수']-data['본사출장자수']-data['본사휴가자수']-data['현본사소속재택근무자수']"
   ]
  },
  {
   "cell_type": "code",
   "execution_count": 10,
   "id": "37b8ba38-5e58-4093-bc7e-1d029ec56b6a",
   "metadata": {},
   "outputs": [
    {
     "data": {
      "text/html": [
       "<div>\n",
       "<style scoped>\n",
       "    .dataframe tbody tr th:only-of-type {\n",
       "        vertical-align: middle;\n",
       "    }\n",
       "\n",
       "    .dataframe tbody tr th {\n",
       "        vertical-align: top;\n",
       "    }\n",
       "\n",
       "    .dataframe thead th {\n",
       "        text-align: right;\n",
       "    }\n",
       "</style>\n",
       "<table border=\"1\" class=\"dataframe\">\n",
       "  <thead>\n",
       "    <tr style=\"text-align: right;\">\n",
       "      <th></th>\n",
       "      <th>일자</th>\n",
       "      <th>요일</th>\n",
       "      <th>본사정원수</th>\n",
       "      <th>본사휴가자수</th>\n",
       "      <th>본사출장자수</th>\n",
       "      <th>본사시간외근무명령서승인건수</th>\n",
       "      <th>현본사소속재택근무자수</th>\n",
       "      <th>조식메뉴</th>\n",
       "      <th>중식메뉴</th>\n",
       "      <th>석식메뉴</th>\n",
       "      <th>중식계</th>\n",
       "      <th>석식계</th>\n",
       "      <th>출근자수</th>\n",
       "    </tr>\n",
       "  </thead>\n",
       "  <tbody>\n",
       "    <tr>\n",
       "      <th>0</th>\n",
       "      <td>2016-02-01</td>\n",
       "      <td>월</td>\n",
       "      <td>2601</td>\n",
       "      <td>50</td>\n",
       "      <td>150</td>\n",
       "      <td>238</td>\n",
       "      <td>0.0</td>\n",
       "      <td>모닝롤/찐빵  우유/두유/주스 계란후라이  호두죽/쌀밥 (쌀:국내산) 된장찌개  쥐...</td>\n",
       "      <td>쌀밥/잡곡밥 (쌀,현미흑미:국내산) 오징어찌개  쇠불고기 (쇠고기:호주산) 계란찜 ...</td>\n",
       "      <td>쌀밥/잡곡밥 (쌀,현미흑미:국내산) 육개장  자반고등어구이  두부조림  건파래무침 ...</td>\n",
       "      <td>1039.0</td>\n",
       "      <td>331.0</td>\n",
       "      <td>2401.0</td>\n",
       "    </tr>\n",
       "    <tr>\n",
       "      <th>1</th>\n",
       "      <td>2016-02-02</td>\n",
       "      <td>화</td>\n",
       "      <td>2601</td>\n",
       "      <td>50</td>\n",
       "      <td>173</td>\n",
       "      <td>319</td>\n",
       "      <td>0.0</td>\n",
       "      <td>모닝롤/단호박샌드  우유/두유/주스 계란후라이  팥죽/쌀밥 (쌀:국내산) 호박젓국찌...</td>\n",
       "      <td>쌀밥/잡곡밥 (쌀,현미흑미:국내산) 김치찌개  가자미튀김  모둠소세지구이  마늘쫑무...</td>\n",
       "      <td>콩나물밥*양념장 (쌀,현미흑미:국내산) 어묵국  유산슬 (쇠고기:호주산) 아삭고추무...</td>\n",
       "      <td>867.0</td>\n",
       "      <td>560.0</td>\n",
       "      <td>2378.0</td>\n",
       "    </tr>\n",
       "    <tr>\n",
       "      <th>2</th>\n",
       "      <td>2016-02-03</td>\n",
       "      <td>수</td>\n",
       "      <td>2601</td>\n",
       "      <td>56</td>\n",
       "      <td>180</td>\n",
       "      <td>111</td>\n",
       "      <td>0.0</td>\n",
       "      <td>모닝롤/베이글  우유/두유/주스 계란후라이  표고버섯죽/쌀밥 (쌀:국내산) 콩나물국...</td>\n",
       "      <td>카레덮밥 (쌀,현미흑미:국내산) 팽이장국  치킨핑거 (닭고기:국내산) 쫄면야채무침 ...</td>\n",
       "      <td>쌀밥/잡곡밥 (쌀,현미흑미:국내산) 청국장찌개  황태양념구이 (황태:러시아산) 고기...</td>\n",
       "      <td>1017.0</td>\n",
       "      <td>573.0</td>\n",
       "      <td>2365.0</td>\n",
       "    </tr>\n",
       "    <tr>\n",
       "      <th>3</th>\n",
       "      <td>2016-02-04</td>\n",
       "      <td>목</td>\n",
       "      <td>2601</td>\n",
       "      <td>104</td>\n",
       "      <td>220</td>\n",
       "      <td>355</td>\n",
       "      <td>0.0</td>\n",
       "      <td>모닝롤/토마토샌드  우유/두유/주스 계란후라이  닭죽/쌀밥 (쌀,닭:국내산) 근대국...</td>\n",
       "      <td>쌀밥/잡곡밥 (쌀,현미흑미:국내산) 쇠고기무국  주꾸미볶음  부추전  시금치나물  ...</td>\n",
       "      <td>미니김밥*겨자장 (쌀,현미흑미:국내산) 우동  멕시칸샐러드  군고구마  무피클  포...</td>\n",
       "      <td>978.0</td>\n",
       "      <td>525.0</td>\n",
       "      <td>2277.0</td>\n",
       "    </tr>\n",
       "    <tr>\n",
       "      <th>4</th>\n",
       "      <td>2016-02-05</td>\n",
       "      <td>금</td>\n",
       "      <td>2601</td>\n",
       "      <td>278</td>\n",
       "      <td>181</td>\n",
       "      <td>34</td>\n",
       "      <td>0.0</td>\n",
       "      <td>모닝롤/와플  우유/두유/주스 계란후라이  쇠고기죽/쌀밥 (쌀:국내산) 재첩국  방...</td>\n",
       "      <td>쌀밥/잡곡밥 (쌀,현미흑미:국내산) 떡국  돈육씨앗강정 (돼지고기:국내산) 우엉잡채...</td>\n",
       "      <td>쌀밥/잡곡밥 (쌀,현미흑미:국내산) 차돌박이찌개 (쇠고기:호주산) 닭갈비 (닭고기:...</td>\n",
       "      <td>925.0</td>\n",
       "      <td>330.0</td>\n",
       "      <td>2142.0</td>\n",
       "    </tr>\n",
       "  </tbody>\n",
       "</table>\n",
       "</div>"
      ],
      "text/plain": [
       "           일자 요일  본사정원수  본사휴가자수  본사출장자수  본사시간외근무명령서승인건수  현본사소속재택근무자수  \\\n",
       "0  2016-02-01  월   2601      50     150             238          0.0   \n",
       "1  2016-02-02  화   2601      50     173             319          0.0   \n",
       "2  2016-02-03  수   2601      56     180             111          0.0   \n",
       "3  2016-02-04  목   2601     104     220             355          0.0   \n",
       "4  2016-02-05  금   2601     278     181              34          0.0   \n",
       "\n",
       "                                                조식메뉴  \\\n",
       "0  모닝롤/찐빵  우유/두유/주스 계란후라이  호두죽/쌀밥 (쌀:국내산) 된장찌개  쥐...   \n",
       "1  모닝롤/단호박샌드  우유/두유/주스 계란후라이  팥죽/쌀밥 (쌀:국내산) 호박젓국찌...   \n",
       "2  모닝롤/베이글  우유/두유/주스 계란후라이  표고버섯죽/쌀밥 (쌀:국내산) 콩나물국...   \n",
       "3  모닝롤/토마토샌드  우유/두유/주스 계란후라이  닭죽/쌀밥 (쌀,닭:국내산) 근대국...   \n",
       "4  모닝롤/와플  우유/두유/주스 계란후라이  쇠고기죽/쌀밥 (쌀:국내산) 재첩국  방...   \n",
       "\n",
       "                                                중식메뉴  \\\n",
       "0  쌀밥/잡곡밥 (쌀,현미흑미:국내산) 오징어찌개  쇠불고기 (쇠고기:호주산) 계란찜 ...   \n",
       "1  쌀밥/잡곡밥 (쌀,현미흑미:국내산) 김치찌개  가자미튀김  모둠소세지구이  마늘쫑무...   \n",
       "2  카레덮밥 (쌀,현미흑미:국내산) 팽이장국  치킨핑거 (닭고기:국내산) 쫄면야채무침 ...   \n",
       "3  쌀밥/잡곡밥 (쌀,현미흑미:국내산) 쇠고기무국  주꾸미볶음  부추전  시금치나물  ...   \n",
       "4  쌀밥/잡곡밥 (쌀,현미흑미:국내산) 떡국  돈육씨앗강정 (돼지고기:국내산) 우엉잡채...   \n",
       "\n",
       "                                                석식메뉴     중식계    석식계    출근자수  \n",
       "0  쌀밥/잡곡밥 (쌀,현미흑미:국내산) 육개장  자반고등어구이  두부조림  건파래무침 ...  1039.0  331.0  2401.0  \n",
       "1  콩나물밥*양념장 (쌀,현미흑미:국내산) 어묵국  유산슬 (쇠고기:호주산) 아삭고추무...   867.0  560.0  2378.0  \n",
       "2  쌀밥/잡곡밥 (쌀,현미흑미:국내산) 청국장찌개  황태양념구이 (황태:러시아산) 고기...  1017.0  573.0  2365.0  \n",
       "3  미니김밥*겨자장 (쌀,현미흑미:국내산) 우동  멕시칸샐러드  군고구마  무피클  포...   978.0  525.0  2277.0  \n",
       "4  쌀밥/잡곡밥 (쌀,현미흑미:국내산) 차돌박이찌개 (쇠고기:호주산) 닭갈비 (닭고기:...   925.0  330.0  2142.0  "
      ]
     },
     "execution_count": 10,
     "metadata": {},
     "output_type": "execute_result"
    }
   ],
   "source": [
    "data.head()"
   ]
  },
  {
   "cell_type": "markdown",
   "id": "6812c7bb-0e02-4bf8-a64b-6b317dc28aac",
   "metadata": {},
   "source": [
    "공휴일 유무가 식수에 영향을 미칠 것이라고 예상하여 공휴일 전 날 칼럼 생성"
   ]
  },
  {
   "cell_type": "markdown",
   "id": "97e215a8-153d-4c81-a0c7-64569f763d34",
   "metadata": {},
   "source": [
    "공휴일 전날은 1, 공휴일 전날이 아닌 경우 0"
   ]
  },
  {
   "cell_type": "code",
   "execution_count": 12,
   "id": "f8b859f2-b097-48f6-a6e1-2d0ee5864c2f",
   "metadata": {},
   "outputs": [],
   "source": [
    "data['공휴일전날']=0\n",
    "\n",
    "data['공휴일전날'][4]=1 #'16 설연휴\n",
    "data['공휴일전날'][17]=1 #삼일절\n",
    "data['공휴일전날'][47]=1 #국회의원 선거\n",
    "data['공휴일전날'][62]=1 #어린이날\n",
    "data['공휴일전날'][67]=1 #석가탄신일\n",
    "data['공휴일전날'][152]=1 #추석연휴\n",
    "data['공휴일전날'][245]=1 #'17 설연휴\n",
    "data['공휴일전날'][264]=1 #'17 삼일절\n",
    "data['공휴일전날'][309]=1 # 석가탄신일\n",
    "data['공휴일전날'][310]=1 #'17 어린이날\n",
    "data['공휴일전날'][330]=1 #'17 현충일\n",
    "data['공휴일전날'][379]=1 #'17 광복절\n",
    "data['공휴일전날'][502]=1 #'18 설연휴\n",
    "data['공휴일전날'][510]=1 #'18 삼일절\n",
    "data['공휴일전날'][552]=1 #'18 근로자의 날\n",
    "data['공휴일전날'][555]=1 #'18 어린이날\n",
    "data['공휴일전날'][565]=1 #'18 석가탄신일\n",
    "data['공휴일전날'][575]=1 #'18 현충일\n",
    "data['공휴일전날'][579]=1 #'18 지방선거\n",
    "data['공휴일전날'][623]=1 #'18 광복절\n",
    "data['공휴일전날'][650]=1 #'18 추석연휴\n",
    "data['공휴일전날'][651]=1 #'18 한글날\n",
    "data['공휴일전날'][705]=1 #'18 성탄절\n",
    "data['공휴일전날'][709]=1 #'19 신정\n",
    "data['공휴일전날'][732]=1 #'19 설연휴\n",
    "data['공휴일전날'][748]=1 #'19 삼일절\n",
    "data['공휴일전날'][790]=1 #'19 근로자의 날\n",
    "data['공휴일전날'][814]=1 #'19 현충일\n",
    "data['공휴일전날'][863]=1 #'19 광복절\n",
    "data['공휴일전날'][882]=1 #'19 추석연휴\n",
    "data['공휴일전날'][894]=1 #'19 개천절\n",
    "data['공휴일전날'][897]=1 #'19 한글날\n",
    "data['공휴일전날'][951]=1 #'19 성탄절\n",
    "data['공휴일전날'][955]=1 #'20 신정\n",
    "data['공휴일전날'][971]=1 #'20 설연휴\n",
    "data['공휴일전날'][995]=1 #'20 삼일절\n",
    "data['공휴일전날'][1027]=1 #'20 국회의원선거\n",
    "data['공휴일전날'][1037]=1 #'20 석가탄신일\n",
    "data['공휴일전날'][1038]=1 #'20 어린이날\n",
    "data['공휴일전날'][1061]=1 #'20 현충일\n",
    "data['공휴일전날'][1099]=1 #'20 광복절\n",
    "data['공휴일전날'][1129]=1 #'20 추석연휴\n",
    "data['공휴일전날'][1133]=1 #'20 한글날\n",
    "data['공휴일전날'][1187]=1 #'20 성탄절\n",
    "\n",
    "data['공휴일전날'][1215]=1 #'21 설연휴\n",
    "data['공휴일전날'][1225]=1 #'21 삼일절"
   ]
  },
  {
   "cell_type": "markdown",
   "id": "c37ac98b-d21c-476e-be99-6eef80f26265",
   "metadata": {},
   "source": [
    "중식계 시각화"
   ]
  },
  {
   "cell_type": "code",
   "execution_count": 16,
   "id": "0fdbba1a-6d61-42f8-8d31-1a1d2e1bfbfd",
   "metadata": {},
   "outputs": [
    {
     "data": {
      "text/plain": [
       "<AxesSubplot:>"
      ]
     },
     "execution_count": 16,
     "metadata": {},
     "output_type": "execute_result"
    },
    {
     "data": {
      "image/png": "[encoded data removed]",
      "text/plain": [
       "<Figure size 640x480 with 1 Axes>"
      ]
     },
     "metadata": {},
     "output_type": "display_data"
    }
   ],
   "source": [
    "data['중식계'].hist()"
   ]
  },
  {
   "cell_type": "markdown",
   "id": "f08b5bb9-c0b0-43ca-bc77-bedcc81607eb",
   "metadata": {},
   "source": [
    "석식계 시각화"
   ]
  },
  {
   "cell_type": "code",
   "execution_count": 17,
   "id": "2f466b12-8748-49ff-93b8-0fa736db391b",
   "metadata": {},
   "outputs": [
    {
     "data": {
      "text/plain": [
       "<AxesSubplot:>"
      ]
     },
     "execution_count": 17,
     "metadata": {},
     "output_type": "execute_result"
    },
    {
     "data": {
      "image/png": "[encoded data removed]",
      "text/plain": [
       "<Figure size 640x480 with 1 Axes>"
      ]
     },
     "metadata": {},
     "output_type": "display_data"
    }
   ],
   "source": [
    "data['석식계'].hist()"
   ]
  },
  {
   "cell_type": "markdown",
   "id": "44b80169-a964-4428-b062-d96bd607a7ac",
   "metadata": {},
   "source": [
    "공휴일 전날과 석식계 plot"
   ]
  },
  {
   "cell_type": "code",
   "execution_count": 18,
   "id": "7664b7b3-44b4-4d68-a107-27cef862259f",
   "metadata": {},
   "outputs": [
    {
     "data": {
      "text/plain": [
       "<seaborn.axisgrid.FacetGrid at 0x1e6e326a4a0>"
      ]
     },
     "execution_count": 18,
     "metadata": {},
     "output_type": "execute_result"
    },
    {
     "data": {
      "image/png": "[encoded data removed]",
      "text/plain": [
       "<Figure size 1500x300 with 5 Axes>"
      ]
     },
     "metadata": {},
     "output_type": "display_data"
    }
   ],
   "source": [
    "grid = sns.FacetGrid(data=data, col='요일', hue = '공휴일전날')\n",
    "grid.map(plt.plot, '일자', '석식계')"
   ]
  },
  {
   "cell_type": "markdown",
   "id": "52ede6c3-c244-4cd8-ae05-19419c29f446",
   "metadata": {},
   "source": [
    "공휴일 전날과 공휴일 전날이 아닌 경우를 나누어 data 처리"
   ]
  },
  {
   "cell_type": "code",
   "execution_count": 22,
   "id": "05a228ac-45f4-4868-9b57-7f4fde14b5f8",
   "metadata": {},
   "outputs": [],
   "source": [
    "data_not_holiday=data[data['공휴일전날']==0]\n",
    "data_holiday=data[data['공휴일전날']==1]"
   ]
  },
  {
   "cell_type": "markdown",
   "id": "4857a0a1-4623-4a10-aff2-6b4fedd4d4f5",
   "metadata": {},
   "source": [
    "공휴일 전날 식계 데이터의 Missing Data를 평균 값으로 대체하여 Handling"
   ]
  },
  {
   "cell_type": "code",
   "execution_count": 47,
   "id": "48795a80-333b-41b6-a2e1-6d3fe539329a",
   "metadata": {},
   "outputs": [],
   "source": [
    "data_holiday['석식계']=data_holiday['석식계'].fillna(data_holiday['석식계'].mean())"
   ]
  },
  {
   "cell_type": "code",
   "execution_count": 49,
   "id": "b0f3e1f3-44cb-4b7e-9687-6b171a5a587a",
   "metadata": {},
   "outputs": [],
   "source": [
    "data_holiday['중식계']=data_holiday['중식계'].fillna(data_holiday['중식계'].mean())"
   ]
  },
  {
   "cell_type": "code",
   "execution_count": 62,
   "id": "efb8e3fa-966f-4514-8f8d-2361e20bde31",
   "metadata": {},
   "outputs": [],
   "source": [
    "data_not_holiday['석식계']=data_not_holiday['석식계'].fillna(data_not_holiday['석식계'].mean())"
   ]
  },
  {
   "cell_type": "code",
   "execution_count": 73,
   "id": "6dc4e4ab-03d1-4293-b118-59c8469fbaeb",
   "metadata": {},
   "outputs": [],
   "source": [
    "data_not_holiday['중식계']=data_not_holiday['중식계'].fillna(data_not_holiday['중식계'].mean())"
   ]
  },
  {
   "cell_type": "code",
   "execution_count": 74,
   "id": "c6cffe79-b4cb-4a07-ba1e-e5a4aaafc1ed",
   "metadata": {},
   "outputs": [],
   "source": [
    "data['석식계']=data['석식계'].fillna(data['석식계'].mean())"
   ]
  },
  {
   "cell_type": "code",
   "execution_count": 75,
   "id": "1c82e482-e357-4da6-9208-c67081e94a05",
   "metadata": {},
   "outputs": [],
   "source": [
    "data['중식계']=data['중식계'].fillna(data['중식계'].mean())"
   ]
  },
  {
   "cell_type": "markdown",
   "id": "7e2fc63c-ba6f-459e-a097-d826764b8aaf",
   "metadata": {},
   "source": [
    "공휴일 전날과 아닌 경우의 식계 평균 값 차이"
   ]
  },
  {
   "cell_type": "code",
   "execution_count": 64,
   "id": "f3491aca-cd1a-4e2d-8ebf-5e27db6c9c1d",
   "metadata": {},
   "outputs": [
    {
     "data": {
      "text/plain": [
       "708.840909090909"
      ]
     },
     "execution_count": 64,
     "metadata": {},
     "output_type": "execute_result"
    }
   ],
   "source": [
    "data_holiday['중식계'].mean()"
   ]
  },
  {
   "cell_type": "code",
   "execution_count": 65,
   "id": "7e97ecfc-2d20-4088-9dd5-17105ef98807",
   "metadata": {},
   "outputs": [
    {
     "data": {
      "text/plain": [
       "897.2127476313523"
      ]
     },
     "execution_count": 65,
     "metadata": {},
     "output_type": "execute_result"
    }
   ],
   "source": [
    "data_not_holiday['중식계'].mean()"
   ]
  },
  {
   "cell_type": "code",
   "execution_count": 66,
   "id": "59583550-02d1-4490-864a-30099cfa1932",
   "metadata": {},
   "outputs": [
    {
     "data": {
      "text/plain": [
       "308.9545454545455"
      ]
     },
     "execution_count": 66,
     "metadata": {},
     "output_type": "execute_result"
    }
   ],
   "source": [
    "data_holiday['석식계'].mean()"
   ]
  },
  {
   "cell_type": "code",
   "execution_count": 67,
   "id": "b1b21409-c8ce-43b9-93bc-992a408ba78a",
   "metadata": {},
   "outputs": [
    {
     "data": {
      "text/plain": [
       "467.5641688199828"
      ]
     },
     "execution_count": 67,
     "metadata": {},
     "output_type": "execute_result"
    }
   ],
   "source": [
    "data_not_holiday['석식계'].mean()"
   ]
  },
  {
   "cell_type": "markdown",
   "id": "ff400571-5581-45d1-bac3-2b330df9e41b",
   "metadata": {},
   "source": [
    "공휴일 전날에 중식계가 현저히 줄어든 것을 확인"
   ]
  },
  {
   "cell_type": "markdown",
   "id": "7ccbe51c-b4a1-41d6-86e3-bc56493ad2d5",
   "metadata": {},
   "source": [
    "공휴일 전날보다 공휴일 전날이 아닌 경우 중식계와 석식계의 값이 더 높게 확인된다"
   ]
  },
  {
   "cell_type": "markdown",
   "id": "028be0aa-bd43-4c44-a282-3cad674d37e2",
   "metadata": {},
   "source": [
    "T-Test"
   ]
  },
  {
   "cell_type": "code",
   "execution_count": 68,
   "id": "3bdc77de-da3d-469e-a954-13ec9f4faef6",
   "metadata": {},
   "outputs": [],
   "source": [
    "from scipy import stats\n",
    "from scipy.stats import f_oneway\n",
    "from statsmodels.graphics.gofplots import qqplot\n",
    "import matplotlib.pyplot as plt\n",
    "import statsmodels.api as sm"
   ]
  },
  {
   "cell_type": "code",
   "execution_count": 76,
   "id": "d933486f-aacd-4dfc-8cd5-111798a719fb",
   "metadata": {},
   "outputs": [
    {
     "data": {
      "image/png": "[encoded data removed]",
      "text/plain": [
       "<Figure size 640x480 with 1 Axes>"
      ]
     },
     "metadata": {},
     "output_type": "display_data"
    }
   ],
   "source": [
    "qqplot(data['중식계'], line='s')\n",
    "plt.show()"
   ]
  },
  {
   "cell_type": "code",
   "execution_count": 82,
   "id": "e1b87601-0dc6-4124-8295-7b7d5b19cacc",
   "metadata": {},
   "outputs": [
    {
     "data": {
      "image/png": "[encoded data removed]",
      "text/plain": [
       "<Figure size 640x480 with 1 Axes>"
      ]
     },
     "metadata": {},
     "output_type": "display_data"
    }
   ],
   "source": [
    "qqplot(data['석식계'], line='s')\n",
    "plt.show()"
   ]
  },
  {
   "cell_type": "code",
   "execution_count": 101,
   "id": "9ce86efc-4ab4-4a00-8e91-cd431072e550",
   "metadata": {},
   "outputs": [
    {
     "data": {
      "image/png": "[encoded data removed]",
      "text/plain": [
       "<Figure size 640x480 with 1 Axes>"
      ]
     },
     "metadata": {},
     "output_type": "display_data"
    }
   ],
   "source": [
    "qqplot(data_holiday['석식계'], line='s')\n",
    "plt.show()"
   ]
  },
  {
   "cell_type": "markdown",
   "id": "87fed3f6-cdfb-4232-8205-7f760c87965a",
   "metadata": {},
   "source": [
    "Normality의 조건 만족 여부 검사"
   ]
  },
  {
   "cell_type": "code",
   "execution_count": 85,
   "id": "3e762390-471e-4e6a-b626-a3d6d220eeba",
   "metadata": {},
   "outputs": [
    {
     "data": {
      "text/plain": [
       "NormaltestResult(statistic=7.319149223049438, pvalue=0.025743461369261915)"
      ]
     },
     "execution_count": 85,
     "metadata": {},
     "output_type": "execute_result"
    }
   ],
   "source": [
    "#Normality test\n",
    "\n",
    "from scipy import stats\n",
    "stats.normaltest(data['중식계'])"
   ]
  },
  {
   "cell_type": "code",
   "execution_count": 89,
   "id": "b30a18ac-17d3-4bbd-a934-8aab7bad2469",
   "metadata": {},
   "outputs": [
    {
     "data": {
      "text/plain": [
       "NormaltestResult(statistic=13.397540065821282, pvalue=0.0012324268152589986)"
      ]
     },
     "execution_count": 89,
     "metadata": {},
     "output_type": "execute_result"
    }
   ],
   "source": [
    "#Normality test\n",
    "\n",
    "from scipy import stats\n",
    "stats.normaltest(data_not_holiday['중식계'])"
   ]
  },
  {
   "cell_type": "code",
   "execution_count": 90,
   "id": "e628f08d-8459-4afd-a200-c2657c617490",
   "metadata": {},
   "outputs": [
    {
     "data": {
      "text/plain": [
       "NormaltestResult(statistic=0.9770905950951942, pvalue=0.6135182318243713)"
      ]
     },
     "execution_count": 90,
     "metadata": {},
     "output_type": "execute_result"
    }
   ],
   "source": [
    "#Normality test\n",
    "\n",
    "from scipy import stats\n",
    "stats.normaltest(data_holiday['중식계'])"
   ]
  },
  {
   "cell_type": "code",
   "execution_count": 106,
   "id": "1721ff90-761c-43a2-be3a-e434e3a9dd61",
   "metadata": {},
   "outputs": [
    {
     "data": {
      "text/plain": [
       "ShapiroResult(statistic=0.9921905398368835, pvalue=3.3686396818666253e-06)"
      ]
     },
     "execution_count": 106,
     "metadata": {},
     "output_type": "execute_result"
    }
   ],
   "source": [
    "#Normality test – Shapiro-Wilk Test\n",
    "\n",
    "from scipy.stats import shapiro\n",
    "shapiro(data['중식계'])"
   ]
  },
  {
   "cell_type": "markdown",
   "id": "77bb2359-1161-44d0-924c-ca4145a1ae33",
   "metadata": {},
   "source": [
    "T-Test "
   ]
  },
  {
   "cell_type": "code",
   "execution_count": 105,
   "id": "209d727c-a476-45d8-b4d2-6dbfdfb3cd27",
   "metadata": {},
   "outputs": [
    {
     "data": {
      "text/plain": [
       "Ttest_indResult(statistic=-6.437114784177162, pvalue=5.0268521252595556e-08)"
      ]
     },
     "execution_count": 105,
     "metadata": {},
     "output_type": "execute_result"
    }
   ],
   "source": [
    "from scipy import stats\n",
    "stats.ttest_ind(data_holiday['중식계'], data_not_holiday['중식계'],equal_var=False)"
   ]
  },
  {
   "cell_type": "markdown",
   "id": "bcec5322-eb96-4725-b46a-afa74f13e8a2",
   "metadata": {},
   "source": [
    "공휴일 전날의 중식계와 공휴일 전날이 아닌 날의 중식계는 평균의 유의미한 차이를 보이는 것으로 판단하였다."
   ]
  },
  {
   "cell_type": "code",
   "execution_count": 107,
   "id": "81a482b0-6dfb-4a91-afdf-6d74ad885a1b",
   "metadata": {},
   "outputs": [
    {
     "data": {
      "text/plain": [
       "Ttest_indResult(statistic=-6.286242614413263, pvalue=9.832563261420216e-08)"
      ]
     },
     "execution_count": 107,
     "metadata": {},
     "output_type": "execute_result"
    }
   ],
   "source": [
    "from scipy import stats\n",
    "stats.ttest_ind(data_holiday['석식계'], data_not_holiday['석식계'],equal_var=False)"
   ]
  },
  {
   "cell_type": "markdown",
   "id": "2694db6b-df15-4c18-8593-c5efc14b36e2",
   "metadata": {},
   "source": [
    "공휴일 전날 석식계와 공휴일 전날이 아닌 날의 석식계의 경우 평균의 유의미한 차이가 존재한다고 판단하였다."
   ]
  },
  {
   "cell_type": "markdown",
   "id": "bf14a456-ba85-4a22-b070-41f357a31962",
   "metadata": {},
   "source": [
    "최종적으로 중식계와 석식계 모두 공휴일 전날에 식수의 합이 줄어드는 것을 수치적으로 확인 할 수 있으며 검정 상으로도 유의미한 차이가 존재함을 확인할 수 있다."
   ]
  }
 ],
 "metadata": {
  "kernelspec": {
   "display_name": "data",
   "language": "python",
   "name": "dataenv"
  },
  "language_info": {
   "codemirror_mode": {
    "name": "ipython",
    "version": 3
   },
   "file_extension": ".py",
   "mimetype": "text/x-python",
   "name": "python",
   "nbconvert_exporter": "python",
   "pygments_lexer": "ipython3",
   "version": "3.10.0"
  }
 },
 "nbformat": 4,
 "nbformat_minor": 5
}
