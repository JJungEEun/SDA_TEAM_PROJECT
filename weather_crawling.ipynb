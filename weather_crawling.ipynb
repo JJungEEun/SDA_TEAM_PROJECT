{
  "nbformat": 4,
  "nbformat_minor": 0,
  "metadata": {
    "colab": {
      "provenance": []
    },
    "kernelspec": {
      "name": "python3",
      "display_name": "Python 3"
    },
    "language_info": {
      "name": "python"
    }
  },
  "cells": [
    {
      "cell_type": "code",
      "source": [
        "cd /content/drive/MyDrive/2022/dacon/구내식당식수인원예측경진대회"
      ],
      "metadata": {
        "id": "OMueU_UUCS1S",
        "outputId": "25f5738f-f474-4b22-ccc8-77db2c7b107f",
        "colab": {
          "base_uri": "https://localhost:8080/"
        }
      },
      "execution_count": 1,
      "outputs": [
        {
          "output_type": "stream",
          "name": "stdout",
          "text": [
            "/content/drive/MyDrive/2022/dacon/구내식당식수인원예측경진대회\n"
          ]
        }
      ]
    },
    {
      "cell_type": "code",
      "source": [
        "import warnings\n",
        "warnings.filterwarnings(action='ignore')"
      ],
      "metadata": {
        "id": "jFDyh3RMkL4T"
      },
      "execution_count": 2,
      "outputs": []
    },
    {
      "cell_type": "code",
      "source": [
        "import io\n",
        "import pandas as pd\n",
        "import matplotlib as mpl\n",
        "import matplotlib.pylab as plt\n",
        "import matplotlib.pyplot as plt\n",
        "import matplotlib.font_manager as fm\n",
        "from matplotlib import rc\n",
        "import numpy as np\n",
        "import seaborn as sns\n",
        "import requests\n",
        "import calendar\n",
        "import datetime\n",
        "from bs4 import BeautifulSoup"
      ],
      "metadata": {
        "id": "P9AJR4nEkNIf"
      },
      "execution_count": 3,
      "outputs": []
    },
    {
      "cell_type": "code",
      "source": [
        "data = []\n",
        "nowyear = 2021\n",
        "nowmonth = 1"
      ],
      "metadata": {
        "id": "S8bd4eIElnGk"
      },
      "execution_count": 4,
      "outputs": []
    },
    {
      "cell_type": "markdown",
      "source": [
        "#### train 데이터셋을 위한 크롤링"
      ],
      "metadata": {
        "id": "mZlgtHpciznD"
      }
    },
    {
      "cell_type": "markdown",
      "source": [
        "#### 관측, 기후"
      ],
      "metadata": {
        "id": "NFinm0urGeqa"
      }
    },
    {
      "cell_type": "code",
      "source": [
        "from datetime import date, datetime, time\n",
        "d = date(nowyear, nowmonth, 31)\n",
        "d"
      ],
      "metadata": {
        "colab": {
          "base_uri": "https://localhost:8080/"
        },
        "id": "ioXSDYWjsQn9",
        "outputId": "2fe73fc5-0b6a-449c-a950-32c18ac6f56e"
      },
      "execution_count": 6,
      "outputs": [
        {
          "output_type": "execute_result",
          "data": {
            "text/plain": [
              "datetime.date(2021, 1, 31)"
            ]
          },
          "metadata": {},
          "execution_count": 6
        }
      ]
    },
    {
      "cell_type": "code",
      "source": [
        "date, avg, max, min, rain = [], [], [], [], []\n",
        "\n",
        "for year in range(2016,nowyear+1):\n",
        "  print('y : '+str(year) + '  year : ' + str(nowyear))\n",
        "  if str(year)==str(nowyear):\n",
        "    monthrange = int(nowmonth)+1\n",
        "  else:\n",
        "    monthrange = 13\n",
        "  \n",
        "  for month in range(1, monthrange):\n",
        "    print(year, month)\n",
        "    response = requests.get('https://www.weather.go.kr/w/obs-climate/land/past-obs/obs-by-day.do?stn=192&yy='+str(year)+'&mm=' +str(month)+'&obs=1') # 진주\n",
        "    #response = requests.get('https://www.weather.go.kr/w/obs-climate/land/past-obs/obs-by-day.do?stn=108&yy='+str(year)+'&mm=' +str(month)+'&obs=1') # 서울\n",
        "    soup = BeautifulSoup(response.content, 'html.parser')\n",
        "    table = soup.select(\".over-scroll > .table-col > tbody > tr > td > span\")\n",
        "\n",
        "    for a in table:\n",
        "      if a.string:\n",
        "        if a.string[-1] == '일':\n",
        "          if month < 10:\n",
        "            if int(a.string[:-1]) >= 10:\n",
        "              date.append(str(year)+'-0'+str(month)+'-'+str(a.string[:-1]))\n",
        "            else:\n",
        "              date.append(str(year)+'-0'+str(month)+'-0'+str(a.string[:-1]))\n",
        "\n",
        "          else:\n",
        "            if int(a.string[:-1]) >= 10:\n",
        "              date.append(str(year)+'-'+str(month)+'-'+str(a.string[:-1]))\n",
        "            else:\n",
        "              date.append(str(year)+'-'+str(month)+'-0'+str(a.string[:-1]))\n",
        "        \n",
        "\n",
        "        elif a.string.startswith('평균기온'):\n",
        "          if len(a.string[5:-1]) != 0:\n",
        "            avg.append(float(a.string[5:-1]))\n",
        "          else:\n",
        "            avg.append(None)\n",
        "        elif a.string.startswith('최고기온'):\n",
        "          max.append(float(a.string[5:-1]))\n",
        "        elif a.string.startswith('최저기온'):\n",
        "          min.append(float(a.string[5:-1]))\n",
        "        elif a.string.startswith('일강수량'):\n",
        "          if len(a.string[5:]) == 3:\n",
        "            rain.append(0)\n",
        "          else:\n",
        "            rain.append(a.string[5:-2])"
      ],
      "metadata": {
        "colab": {
          "base_uri": "https://localhost:8080/"
        },
        "id": "_Dcp_mHX04VH",
        "outputId": "f6af0cf4-aab5-4074-a05d-eed8211d08a6"
      },
      "execution_count": null,
      "outputs": [
        {
          "output_type": "stream",
          "name": "stdout",
          "text": [
            "y : 2016  year : 2021\n",
            "2016 1\n",
            "2016 2\n",
            "2016 3\n",
            "2016 4\n",
            "2016 5\n",
            "2016 6\n",
            "2016 7\n",
            "2016 8\n",
            "2016 9\n",
            "2016 10\n",
            "2016 11\n",
            "2016 12\n",
            "y : 2017  year : 2021\n",
            "2017 1\n",
            "2017 2\n",
            "2017 3\n",
            "2017 4\n",
            "2017 5\n",
            "2017 6\n",
            "2017 7\n",
            "2017 8\n",
            "2017 9\n",
            "2017 10\n",
            "2017 11\n",
            "2017 12\n",
            "y : 2018  year : 2021\n",
            "2018 1\n",
            "2018 2\n",
            "2018 3\n",
            "2018 4\n",
            "2018 5\n",
            "2018 6\n",
            "2018 7\n",
            "2018 8\n",
            "2018 9\n",
            "2018 10\n",
            "2018 11\n",
            "2018 12\n",
            "y : 2019  year : 2021\n",
            "2019 1\n",
            "2019 2\n",
            "2019 3\n",
            "2019 4\n",
            "2019 5\n",
            "2019 6\n",
            "2019 7\n",
            "2019 8\n",
            "2019 9\n",
            "2019 10\n",
            "2019 11\n",
            "2019 12\n",
            "y : 2020  year : 2021\n",
            "2020 1\n",
            "2020 2\n",
            "2020 3\n",
            "2020 4\n",
            "2020 5\n",
            "2020 6\n",
            "2020 7\n",
            "2020 8\n",
            "2020 9\n",
            "2020 10\n",
            "2020 11\n",
            "2020 12\n",
            "y : 2021  year : 2021\n",
            "2021 1\n"
          ]
        }
      ]
    },
    {
      "cell_type": "code",
      "source": [
        "print(len(date),len(avg),len(min), len(max), len(rain))"
      ],
      "metadata": {
        "colab": {
          "base_uri": "https://localhost:8080/"
        },
        "id": "vVeEk7UfAlPd",
        "outputId": "7ccf403d-e58b-46fb-e3cb-2b6fca9d629c"
      },
      "execution_count": null,
      "outputs": [
        {
          "output_type": "stream",
          "name": "stdout",
          "text": [
            "1858 1858 1858 1858 1858\n"
          ]
        }
      ]
    },
    {
      "cell_type": "code",
      "source": [
        "weather = pd.DataFrame(date,columns=['date'])\n",
        "weather['avg'] = avg\n",
        "weather['max'] = max\n",
        "weather['min'] = min\n",
        "weather['rain'] = rain"
      ],
      "metadata": {
        "id": "EezUbjSU93uZ"
      },
      "execution_count": null,
      "outputs": []
    },
    {
      "cell_type": "code",
      "source": [
        "weather"
      ],
      "metadata": {
        "colab": {
          "base_uri": "https://localhost:8080/",
          "height": 424
        },
        "id": "qp5KK4lnAA4V",
        "outputId": "6e6df616-4f82-4525-a1a1-c8569eefbde6"
      },
      "execution_count": null,
      "outputs": [
        {
          "output_type": "execute_result",
          "data": {
            "text/plain": [
              "           date  avg   max  min rain\n",
              "0    2016-01-01 -0.1   8.7 -6.7    0\n",
              "1    2016-01-02  1.8  10.8 -3.6    0\n",
              "2    2016-01-03  4.0  14.5 -2.2    0\n",
              "3    2016-01-04  4.8  15.0 -0.3    0\n",
              "4    2016-01-05  0.5   4.9 -2.6  0.0\n",
              "...         ...  ...   ...  ...  ...\n",
              "1853 2021-01-27  4.1  11.4 -1.2    0\n",
              "1854 2021-01-28  1.4  10.7 -3.0    0\n",
              "1855 2021-01-29 -2.3   3.0 -6.0    0\n",
              "1856 2021-01-30 -0.3   9.1 -9.2    0\n",
              "1857 2021-01-31  3.1  12.2 -6.0  1.0\n",
              "\n",
              "[1858 rows x 5 columns]"
            ],
            "text/html": [
              "\n",
              "  <div id=\"df-75b287ed-e5cb-4d4a-8252-5160d2ecd069\">\n",
              "    <div class=\"colab-df-container\">\n",
              "      <div>\n",
              "<style scoped>\n",
              "    .dataframe tbody tr th:only-of-type {\n",
              "        vertical-align: middle;\n",
              "    }\n",
              "\n",
              "    .dataframe tbody tr th {\n",
              "        vertical-align: top;\n",
              "    }\n",
              "\n",
              "    .dataframe thead th {\n",
              "        text-align: right;\n",
              "    }\n",
              "</style>\n",
              "<table border=\"1\" class=\"dataframe\">\n",
              "  <thead>\n",
              "    <tr style=\"text-align: right;\">\n",
              "      <th></th>\n",
              "      <th>date</th>\n",
              "      <th>avg</th>\n",
              "      <th>max</th>\n",
              "      <th>min</th>\n",
              "      <th>rain</th>\n",
              "    </tr>\n",
              "  </thead>\n",
              "  <tbody>\n",
              "    <tr>\n",
              "      <th>0</th>\n",
              "      <td>2016-01-01</td>\n",
              "      <td>-0.1</td>\n",
              "      <td>8.7</td>\n",
              "      <td>-6.7</td>\n",
              "      <td>0</td>\n",
              "    </tr>\n",
              "    <tr>\n",
              "      <th>1</th>\n",
              "      <td>2016-01-02</td>\n",
              "      <td>1.8</td>\n",
              "      <td>10.8</td>\n",
              "      <td>-3.6</td>\n",
              "      <td>0</td>\n",
              "    </tr>\n",
              "    <tr>\n",
              "      <th>2</th>\n",
              "      <td>2016-01-03</td>\n",
              "      <td>4.0</td>\n",
              "      <td>14.5</td>\n",
              "      <td>-2.2</td>\n",
              "      <td>0</td>\n",
              "    </tr>\n",
              "    <tr>\n",
              "      <th>3</th>\n",
              "      <td>2016-01-04</td>\n",
              "      <td>4.8</td>\n",
              "      <td>15.0</td>\n",
              "      <td>-0.3</td>\n",
              "      <td>0</td>\n",
              "    </tr>\n",
              "    <tr>\n",
              "      <th>4</th>\n",
              "      <td>2016-01-05</td>\n",
              "      <td>0.5</td>\n",
              "      <td>4.9</td>\n",
              "      <td>-2.6</td>\n",
              "      <td>0.0</td>\n",
              "    </tr>\n",
              "    <tr>\n",
              "      <th>...</th>\n",
              "      <td>...</td>\n",
              "      <td>...</td>\n",
              "      <td>...</td>\n",
              "      <td>...</td>\n",
              "      <td>...</td>\n",
              "    </tr>\n",
              "    <tr>\n",
              "      <th>1853</th>\n",
              "      <td>2021-01-27</td>\n",
              "      <td>4.1</td>\n",
              "      <td>11.4</td>\n",
              "      <td>-1.2</td>\n",
              "      <td>0</td>\n",
              "    </tr>\n",
              "    <tr>\n",
              "      <th>1854</th>\n",
              "      <td>2021-01-28</td>\n",
              "      <td>1.4</td>\n",
              "      <td>10.7</td>\n",
              "      <td>-3.0</td>\n",
              "      <td>0</td>\n",
              "    </tr>\n",
              "    <tr>\n",
              "      <th>1855</th>\n",
              "      <td>2021-01-29</td>\n",
              "      <td>-2.3</td>\n",
              "      <td>3.0</td>\n",
              "      <td>-6.0</td>\n",
              "      <td>0</td>\n",
              "    </tr>\n",
              "    <tr>\n",
              "      <th>1856</th>\n",
              "      <td>2021-01-30</td>\n",
              "      <td>-0.3</td>\n",
              "      <td>9.1</td>\n",
              "      <td>-9.2</td>\n",
              "      <td>0</td>\n",
              "    </tr>\n",
              "    <tr>\n",
              "      <th>1857</th>\n",
              "      <td>2021-01-31</td>\n",
              "      <td>3.1</td>\n",
              "      <td>12.2</td>\n",
              "      <td>-6.0</td>\n",
              "      <td>1.0</td>\n",
              "    </tr>\n",
              "  </tbody>\n",
              "</table>\n",
              "<p>1858 rows × 5 columns</p>\n",
              "</div>\n",
              "      <button class=\"colab-df-convert\" onclick=\"convertToInteractive('df-75b287ed-e5cb-4d4a-8252-5160d2ecd069')\"\n",
              "              title=\"Convert this dataframe to an interactive table.\"\n",
              "              style=\"display:none;\">\n",
              "        \n",
              "  <svg xmlns=\"http://www.w3.org/2000/svg\" height=\"24px\"viewBox=\"0 0 24 24\"\n",
              "       width=\"24px\">\n",
              "    <path d=\"M0 0h24v24H0V0z\" fill=\"none\"/>\n",
              "    <path d=\"M18.56 5.44l.94 2.06.94-2.06 2.06-.94-2.06-.94-.94-2.06-.94 2.06-2.06.94zm-11 1L8.5 8.5l.94-2.06 2.06-.94-2.06-.94L8.5 2.5l-.94 2.06-2.06.94zm10 10l.94 2.06.94-2.06 2.06-.94-2.06-.94-.94-2.06-.94 2.06-2.06.94z\"/><path d=\"M17.41 7.96l-1.37-1.37c-.4-.4-.92-.59-1.43-.59-.52 0-1.04.2-1.43.59L10.3 9.45l-7.72 7.72c-.78.78-.78 2.05 0 2.83L4 21.41c.39.39.9.59 1.41.59.51 0 1.02-.2 1.41-.59l7.78-7.78 2.81-2.81c.8-.78.8-2.07 0-2.86zM5.41 20L4 18.59l7.72-7.72 1.47 1.35L5.41 20z\"/>\n",
              "  </svg>\n",
              "      </button>\n",
              "      \n",
              "  <style>\n",
              "    .colab-df-container {\n",
              "      display:flex;\n",
              "      flex-wrap:wrap;\n",
              "      gap: 12px;\n",
              "    }\n",
              "\n",
              "    .colab-df-convert {\n",
              "      background-color: #E8F0FE;\n",
              "      border: none;\n",
              "      border-radius: 50%;\n",
              "      cursor: pointer;\n",
              "      display: none;\n",
              "      fill: #1967D2;\n",
              "      height: 32px;\n",
              "      padding: 0 0 0 0;\n",
              "      width: 32px;\n",
              "    }\n",
              "\n",
              "    .colab-df-convert:hover {\n",
              "      background-color: #E2EBFA;\n",
              "      box-shadow: 0px 1px 2px rgba(60, 64, 67, 0.3), 0px 1px 3px 1px rgba(60, 64, 67, 0.15);\n",
              "      fill: #174EA6;\n",
              "    }\n",
              "\n",
              "    [theme=dark] .colab-df-convert {\n",
              "      background-color: #3B4455;\n",
              "      fill: #D2E3FC;\n",
              "    }\n",
              "\n",
              "    [theme=dark] .colab-df-convert:hover {\n",
              "      background-color: #434B5C;\n",
              "      box-shadow: 0px 1px 3px 1px rgba(0, 0, 0, 0.15);\n",
              "      filter: drop-shadow(0px 1px 2px rgba(0, 0, 0, 0.3));\n",
              "      fill: #FFFFFF;\n",
              "    }\n",
              "  </style>\n",
              "\n",
              "      <script>\n",
              "        const buttonEl =\n",
              "          document.querySelector('#df-75b287ed-e5cb-4d4a-8252-5160d2ecd069 button.colab-df-convert');\n",
              "        buttonEl.style.display =\n",
              "          google.colab.kernel.accessAllowed ? 'block' : 'none';\n",
              "\n",
              "        async function convertToInteractive(key) {\n",
              "          const element = document.querySelector('#df-75b287ed-e5cb-4d4a-8252-5160d2ecd069');\n",
              "          const dataTable =\n",
              "            await google.colab.kernel.invokeFunction('convertToInteractive',\n",
              "                                                     [key], {});\n",
              "          if (!dataTable) return;\n",
              "\n",
              "          const docLinkHtml = 'Like what you see? Visit the ' +\n",
              "            '<a target=\"_blank\" href=https://colab.research.google.com/notebooks/data_table.ipynb>data table notebook</a>'\n",
              "            + ' to learn more about interactive tables.';\n",
              "          element.innerHTML = '';\n",
              "          dataTable['output_type'] = 'display_data';\n",
              "          await google.colab.output.renderOutput(dataTable, element);\n",
              "          const docLink = document.createElement('div');\n",
              "          docLink.innerHTML = docLinkHtml;\n",
              "          element.appendChild(docLink);\n",
              "        }\n",
              "      </script>\n",
              "    </div>\n",
              "  </div>\n",
              "  "
            ]
          },
          "metadata": {},
          "execution_count": 33
        }
      ]
    },
    {
      "cell_type": "code",
      "source": [
        "weather.to_csv('weather_jinju(최종수정).csv')"
      ],
      "metadata": {
        "id": "6OZ_GNAUB2SU"
      },
      "execution_count": null,
      "outputs": []
    },
    {
      "cell_type": "markdown",
      "source": [
        "#### 상대 습도"
      ],
      "metadata": {
        "id": "Qgoo6teEGkH_"
      }
    },
    {
      "cell_type": "code",
      "source": [
        "response = requests.get('https://www.weather.go.kr/w/obs-climate/land/past-obs/obs-by-element.do?stn=192&yy=2018&obs=12') # 진주\n",
        "#response = requests.get('https://www.weather.go.kr/w/obs-climate/land/past-obs/obs-by-day.do?stn=108&yy='+str(year)+'&mm=' +str(month)+'&obs=1') # 서울\n",
        "soup = BeautifulSoup(response.content, 'html.parser')\n",
        "table = soup.select(\".over-scroll > .table-col > tbody > tr > td > span\")"
      ],
      "metadata": {
        "id": "B1Su2vLoGlxR"
      },
      "execution_count": null,
      "outputs": []
    },
    {
      "cell_type": "code",
      "source": [
        "date, humidity = [], []\n",
        "\n",
        "for year in range(2016, nowyear+1):\n",
        "  print('y : '+str(year) + '  year : ' + str(nowyear))\n",
        "  if str(year)==str(nowyear):\n",
        "    monthrange = int(nowmonth)+1\n",
        "  else:\n",
        "    monthrange = 13\n",
        "  \n",
        "  print(year)\n",
        "  response = requests.get('https://www.weather.go.kr/w/obs-climate/land/past-obs/obs-by-element.do?stn=192&yy='+str(year)+'&obs=12') # 진주\n",
        "  # response = requests.get('https://www.weather.go.kr/w/obs-climate/land/past-obs/obs-by-element.do?stn=108&yy='+str(year)+'&obs=12') # 진주\n",
        "\n",
        "  soup = BeautifulSoup(response.content, 'html.parser')\n",
        "  table = soup.select(\".over-scroll > .table-col > tbody > tr > td > span\")\n",
        "\n",
        "  for a in table:\n",
        "    if a.string:\n",
        "      if a.string == '평균':\n",
        "        break\n",
        "      if a.string[-1] == '일':\n",
        "        for i in range(1, 13):\n",
        "          if i < 10:\n",
        "            if int(a.string[:-1])>=10:\n",
        "              date.append(str(year)+'-0'+str(i)+'-'+str(a.string[:-1]))\n",
        "            else:\n",
        "              date.append(str(year)+'-0'+str(i)+'-0'+str(a.string[:-1]))\n",
        "          else:\n",
        "            if int(a.string[:-1])>=10:\n",
        "              date.append(str(year)+'-'+str(i)+'-'+str(a.string[:-1]))\n",
        "            else:\n",
        "              date.append(str(year)+'-'+str(i)+'-0'+str(a.string[:-1]))\n",
        "          # date.append(str(year)+'-'+str(i)+'-'+str(a.string[:-1]))\n",
        "      else:\n",
        "        humidity.append(a.string)"
      ],
      "metadata": {
        "colab": {
          "base_uri": "https://localhost:8080/"
        },
        "id": "LkMvsfs4IBV8",
        "outputId": "73ed8ec4-726d-4b8d-cc98-9aa770b1abe6"
      },
      "execution_count": null,
      "outputs": [
        {
          "output_type": "stream",
          "name": "stdout",
          "text": [
            "y : 2016  year : 2021\n",
            "2016\n",
            "y : 2017  year : 2021\n",
            "2017\n",
            "y : 2018  year : 2021\n",
            "2018\n",
            "y : 2019  year : 2021\n",
            "2019\n",
            "y : 2020  year : 2021\n",
            "2020\n",
            "y : 2021  year : 2021\n",
            "2021\n"
          ]
        }
      ]
    },
    {
      "cell_type": "code",
      "source": [
        "print(len(date), len(humidity))"
      ],
      "metadata": {
        "colab": {
          "base_uri": "https://localhost:8080/"
        },
        "id": "3pnYXyQYJSdL",
        "outputId": "e2e3e9e9-8cf8-4c3f-97a1-04b0fb590244"
      },
      "execution_count": null,
      "outputs": [
        {
          "output_type": "stream",
          "name": "stdout",
          "text": [
            "2232 2232\n"
          ]
        }
      ]
    },
    {
      "cell_type": "code",
      "source": [
        "humidity_df = pd.DataFrame(date,columns=['date'])\n",
        "humidity_df['humidity'] = humidity"
      ],
      "metadata": {
        "id": "bg57YCrCIAQ6"
      },
      "execution_count": null,
      "outputs": []
    },
    {
      "cell_type": "code",
      "source": [
        "humidity_df"
      ],
      "metadata": {
        "colab": {
          "base_uri": "https://localhost:8080/",
          "height": 424
        },
        "id": "epoEkJGIJ1HE",
        "outputId": "d3b53154-c633-4e9f-ffce-85e281230ba6"
      },
      "execution_count": null,
      "outputs": [
        {
          "output_type": "execute_result",
          "data": {
            "text/plain": [
              "            date humidity\n",
              "0     2016-01-01     69.4\n",
              "1     2016-02-01     43.9\n",
              "2     2016-03-01     44.0\n",
              "3     2016-04-01     57.3\n",
              "4     2016-05-01     61.5\n",
              "...          ...      ...\n",
              "2227  2021-08-31     84.4\n",
              "2228  2021-09-31         \n",
              "2229  2021-10-31     80.4\n",
              "2230  2021-11-31         \n",
              "2231  2021-12-31     33.3\n",
              "\n",
              "[2232 rows x 2 columns]"
            ],
            "text/html": [
              "\n",
              "  <div id=\"df-1f1f9366-e01d-4a2a-bfb2-47cd80b18acd\">\n",
              "    <div class=\"colab-df-container\">\n",
              "      <div>\n",
              "<style scoped>\n",
              "    .dataframe tbody tr th:only-of-type {\n",
              "        vertical-align: middle;\n",
              "    }\n",
              "\n",
              "    .dataframe tbody tr th {\n",
              "        vertical-align: top;\n",
              "    }\n",
              "\n",
              "    .dataframe thead th {\n",
              "        text-align: right;\n",
              "    }\n",
              "</style>\n",
              "<table border=\"1\" class=\"dataframe\">\n",
              "  <thead>\n",
              "    <tr style=\"text-align: right;\">\n",
              "      <th></th>\n",
              "      <th>date</th>\n",
              "      <th>humidity</th>\n",
              "    </tr>\n",
              "  </thead>\n",
              "  <tbody>\n",
              "    <tr>\n",
              "      <th>0</th>\n",
              "      <td>2016-01-01</td>\n",
              "      <td>69.4</td>\n",
              "    </tr>\n",
              "    <tr>\n",
              "      <th>1</th>\n",
              "      <td>2016-02-01</td>\n",
              "      <td>43.9</td>\n",
              "    </tr>\n",
              "    <tr>\n",
              "      <th>2</th>\n",
              "      <td>2016-03-01</td>\n",
              "      <td>44.0</td>\n",
              "    </tr>\n",
              "    <tr>\n",
              "      <th>3</th>\n",
              "      <td>2016-04-01</td>\n",
              "      <td>57.3</td>\n",
              "    </tr>\n",
              "    <tr>\n",
              "      <th>4</th>\n",
              "      <td>2016-05-01</td>\n",
              "      <td>61.5</td>\n",
              "    </tr>\n",
              "    <tr>\n",
              "      <th>...</th>\n",
              "      <td>...</td>\n",
              "      <td>...</td>\n",
              "    </tr>\n",
              "    <tr>\n",
              "      <th>2227</th>\n",
              "      <td>2021-08-31</td>\n",
              "      <td>84.4</td>\n",
              "    </tr>\n",
              "    <tr>\n",
              "      <th>2228</th>\n",
              "      <td>2021-09-31</td>\n",
              "      <td></td>\n",
              "    </tr>\n",
              "    <tr>\n",
              "      <th>2229</th>\n",
              "      <td>2021-10-31</td>\n",
              "      <td>80.4</td>\n",
              "    </tr>\n",
              "    <tr>\n",
              "      <th>2230</th>\n",
              "      <td>2021-11-31</td>\n",
              "      <td></td>\n",
              "    </tr>\n",
              "    <tr>\n",
              "      <th>2231</th>\n",
              "      <td>2021-12-31</td>\n",
              "      <td>33.3</td>\n",
              "    </tr>\n",
              "  </tbody>\n",
              "</table>\n",
              "<p>2232 rows × 2 columns</p>\n",
              "</div>\n",
              "      <button class=\"colab-df-convert\" onclick=\"convertToInteractive('df-1f1f9366-e01d-4a2a-bfb2-47cd80b18acd')\"\n",
              "              title=\"Convert this dataframe to an interactive table.\"\n",
              "              style=\"display:none;\">\n",
              "        \n",
              "  <svg xmlns=\"http://www.w3.org/2000/svg\" height=\"24px\"viewBox=\"0 0 24 24\"\n",
              "       width=\"24px\">\n",
              "    <path d=\"M0 0h24v24H0V0z\" fill=\"none\"/>\n",
              "    <path d=\"M18.56 5.44l.94 2.06.94-2.06 2.06-.94-2.06-.94-.94-2.06-.94 2.06-2.06.94zm-11 1L8.5 8.5l.94-2.06 2.06-.94-2.06-.94L8.5 2.5l-.94 2.06-2.06.94zm10 10l.94 2.06.94-2.06 2.06-.94-2.06-.94-.94-2.06-.94 2.06-2.06.94z\"/><path d=\"M17.41 7.96l-1.37-1.37c-.4-.4-.92-.59-1.43-.59-.52 0-1.04.2-1.43.59L10.3 9.45l-7.72 7.72c-.78.78-.78 2.05 0 2.83L4 21.41c.39.39.9.59 1.41.59.51 0 1.02-.2 1.41-.59l7.78-7.78 2.81-2.81c.8-.78.8-2.07 0-2.86zM5.41 20L4 18.59l7.72-7.72 1.47 1.35L5.41 20z\"/>\n",
              "  </svg>\n",
              "      </button>\n",
              "      \n",
              "  <style>\n",
              "    .colab-df-container {\n",
              "      display:flex;\n",
              "      flex-wrap:wrap;\n",
              "      gap: 12px;\n",
              "    }\n",
              "\n",
              "    .colab-df-convert {\n",
              "      background-color: #E8F0FE;\n",
              "      border: none;\n",
              "      border-radius: 50%;\n",
              "      cursor: pointer;\n",
              "      display: none;\n",
              "      fill: #1967D2;\n",
              "      height: 32px;\n",
              "      padding: 0 0 0 0;\n",
              "      width: 32px;\n",
              "    }\n",
              "\n",
              "    .colab-df-convert:hover {\n",
              "      background-color: #E2EBFA;\n",
              "      box-shadow: 0px 1px 2px rgba(60, 64, 67, 0.3), 0px 1px 3px 1px rgba(60, 64, 67, 0.15);\n",
              "      fill: #174EA6;\n",
              "    }\n",
              "\n",
              "    [theme=dark] .colab-df-convert {\n",
              "      background-color: #3B4455;\n",
              "      fill: #D2E3FC;\n",
              "    }\n",
              "\n",
              "    [theme=dark] .colab-df-convert:hover {\n",
              "      background-color: #434B5C;\n",
              "      box-shadow: 0px 1px 3px 1px rgba(0, 0, 0, 0.15);\n",
              "      filter: drop-shadow(0px 1px 2px rgba(0, 0, 0, 0.3));\n",
              "      fill: #FFFFFF;\n",
              "    }\n",
              "  </style>\n",
              "\n",
              "      <script>\n",
              "        const buttonEl =\n",
              "          document.querySelector('#df-1f1f9366-e01d-4a2a-bfb2-47cd80b18acd button.colab-df-convert');\n",
              "        buttonEl.style.display =\n",
              "          google.colab.kernel.accessAllowed ? 'block' : 'none';\n",
              "\n",
              "        async function convertToInteractive(key) {\n",
              "          const element = document.querySelector('#df-1f1f9366-e01d-4a2a-bfb2-47cd80b18acd');\n",
              "          const dataTable =\n",
              "            await google.colab.kernel.invokeFunction('convertToInteractive',\n",
              "                                                     [key], {});\n",
              "          if (!dataTable) return;\n",
              "\n",
              "          const docLinkHtml = 'Like what you see? Visit the ' +\n",
              "            '<a target=\"_blank\" href=https://colab.research.google.com/notebooks/data_table.ipynb>data table notebook</a>'\n",
              "            + ' to learn more about interactive tables.';\n",
              "          element.innerHTML = '';\n",
              "          dataTable['output_type'] = 'display_data';\n",
              "          await google.colab.output.renderOutput(dataTable, element);\n",
              "          const docLink = document.createElement('div');\n",
              "          docLink.innerHTML = docLinkHtml;\n",
              "          element.appendChild(docLink);\n",
              "        }\n",
              "      </script>\n",
              "    </div>\n",
              "  </div>\n",
              "  "
            ]
          },
          "metadata": {},
          "execution_count": 51
        }
      ]
    },
    {
      "cell_type": "code",
      "source": [
        "humidity_df.to_csv('humidity_jinju(최종수정).csv')"
      ],
      "metadata": {
        "id": "MHecfYaDKYiM"
      },
      "execution_count": null,
      "outputs": []
    },
    {
      "cell_type": "markdown",
      "source": [
        "### test 데이터셋을 위한 크롤링"
      ],
      "metadata": {
        "id": "h4fxoMTzir4J"
      }
    },
    {
      "cell_type": "markdown",
      "source": [
        "#### 날씨"
      ],
      "metadata": {
        "id": "PJCS3Srsirzt"
      }
    },
    {
      "cell_type": "code",
      "source": [
        "date, avg, max, min, rain = [], [], [], [], []\n",
        "\n",
        "for year in range(2021,2022):\n",
        "  print('y : '+str(year) + '  year : ' + str(nowyear))\n",
        "  if str(year)==str(nowyear):\n",
        "    monthrange = int(nowmonth)+1\n",
        "  else:\n",
        "    monthrange = 13\n",
        "  \n",
        "  for month in range(1, 5):\n",
        "    print(year, month)\n",
        "    response = requests.get('https://www.weather.go.kr/w/obs-climate/land/past-obs/obs-by-day.do?stn=192&yy='+str(year)+'&mm=' +str(month)+'&obs=1') # 진주\n",
        "    #response = requests.get('https://www.weather.go.kr/w/obs-climate/land/past-obs/obs-by-day.do?stn=108&yy='+str(year)+'&mm=' +str(month)+'&obs=1') # 서울\n",
        "    soup = BeautifulSoup(response.content, 'html.parser')\n",
        "    table = soup.select(\".over-scroll > .table-col > tbody > tr > td > span\")\n",
        "\n",
        "    for a in table:\n",
        "      if a.string:\n",
        "        if a.string[-1] == '일':\n",
        "          if month < 10:\n",
        "            if int(a.string[:-1]) >= 10:\n",
        "              date.append(str(year)+'-0'+str(month)+'-'+str(a.string[:-1]))\n",
        "            else:\n",
        "              date.append(str(year)+'-0'+str(month)+'-0'+str(a.string[:-1]))\n",
        "\n",
        "          else:\n",
        "            if int(a.string[:-1]) >= 10:\n",
        "              date.append(str(year)+'-'+str(month)+'-'+str(a.string[:-1]))\n",
        "            else:\n",
        "              date.append(str(year)+'-'+str(month)+'-0'+str(a.string[:-1]))\n",
        "        \n",
        "\n",
        "        elif a.string.startswith('평균기온'):\n",
        "          if len(a.string[5:-1]) != 0:\n",
        "            avg.append(float(a.string[5:-1]))\n",
        "          else:\n",
        "            avg.append(None)\n",
        "        elif a.string.startswith('최고기온'):\n",
        "          max.append(float(a.string[5:-1]))\n",
        "        elif a.string.startswith('최저기온'):\n",
        "          min.append(float(a.string[5:-1]))\n",
        "        elif a.string.startswith('일강수량'):\n",
        "          if len(a.string[5:]) == 3:\n",
        "            rain.append(0)\n",
        "          else:\n",
        "            rain.append(a.string[5:-2])"
      ],
      "metadata": {
        "colab": {
          "base_uri": "https://localhost:8080/"
        },
        "id": "gziPixs9O17f",
        "outputId": "e24fc9d5-2efd-454b-d065-93c8d7764ab5"
      },
      "execution_count": 9,
      "outputs": [
        {
          "output_type": "stream",
          "name": "stdout",
          "text": [
            "y : 2021  year : 2021\n",
            "2021 1\n",
            "2021 2\n",
            "2021 3\n",
            "2021 4\n"
          ]
        }
      ]
    },
    {
      "cell_type": "code",
      "source": [
        "print(len(date),len(avg),len(min), len(max), len(rain))"
      ],
      "metadata": {
        "colab": {
          "base_uri": "https://localhost:8080/"
        },
        "id": "u8GMn6J8QdUi",
        "outputId": "77d8e984-3a39-412f-e323-20ab6c9feadd"
      },
      "execution_count": 10,
      "outputs": [
        {
          "output_type": "stream",
          "name": "stdout",
          "text": [
            "120 120 120 120 120\n"
          ]
        }
      ]
    },
    {
      "cell_type": "code",
      "source": [
        "weather = pd.DataFrame(date,columns=['date'])\n",
        "weather['avg'] = avg\n",
        "weather['max'] = max\n",
        "weather['min'] = min\n",
        "weather['rain'] = rain"
      ],
      "metadata": {
        "id": "_4vBGgCoQgfD"
      },
      "execution_count": 11,
      "outputs": []
    },
    {
      "cell_type": "code",
      "source": [
        "weather.to_csv('weather_test.csv')"
      ],
      "metadata": {
        "id": "NFLEW7jPQizg"
      },
      "execution_count": 12,
      "outputs": []
    },
    {
      "cell_type": "markdown",
      "source": [
        "#### 습도"
      ],
      "metadata": {
        "id": "t6__Pj1wiwXd"
      }
    },
    {
      "cell_type": "code",
      "source": [
        "date, humidity = [], []\n",
        "\n",
        "for year in range(2021, 2022):\n",
        "  print('y : '+str(year) + '  year : ' + str(nowyear))\n",
        "  if str(year)==str(nowyear):\n",
        "    monthrange = int(nowmonth)+1\n",
        "  else:\n",
        "    monthrange = 13\n",
        "  \n",
        "  print(year)\n",
        "  response = requests.get('https://www.weather.go.kr/w/obs-climate/land/past-obs/obs-by-element.do?stn=192&yy='+str(year)+'&obs=12') # 진주\n",
        "  # response = requests.get('https://www.weather.go.kr/w/obs-climate/land/past-obs/obs-by-element.do?stn=108&yy='+str(year)+'&obs=12') # 진주\n",
        "\n",
        "  soup = BeautifulSoup(response.content, 'html.parser')\n",
        "  table = soup.select(\".over-scroll > .table-col > tbody > tr > td > span\")\n",
        "\n",
        "  for a in table:\n",
        "    if a.string:\n",
        "      if a.string == '평균':\n",
        "        break\n",
        "      if a.string[-1] == '일':\n",
        "        for i in range(1, 13):\n",
        "          if i < 10:\n",
        "            if int(a.string[:-1])>=10:\n",
        "              date.append(str(year)+'-0'+str(i)+'-'+str(a.string[:-1]))\n",
        "            else:\n",
        "              date.append(str(year)+'-0'+str(i)+'-0'+str(a.string[:-1]))\n",
        "          else:\n",
        "            if int(a.string[:-1])>=10:\n",
        "              date.append(str(year)+'-'+str(i)+'-'+str(a.string[:-1]))\n",
        "            else:\n",
        "              date.append(str(year)+'-'+str(i)+'-0'+str(a.string[:-1]))\n",
        "          # date.append(str(year)+'-'+str(i)+'-'+str(a.string[:-1]))\n",
        "      else:\n",
        "        humidity.append(a.string)"
      ],
      "metadata": {
        "colab": {
          "base_uri": "https://localhost:8080/"
        },
        "id": "YH1kAQ1dO11F",
        "outputId": "a3163947-6885-490f-fb71-ad7fe1213167"
      },
      "execution_count": 17,
      "outputs": [
        {
          "output_type": "stream",
          "name": "stdout",
          "text": [
            "y : 2021  year : 2021\n",
            "2021\n"
          ]
        }
      ]
    },
    {
      "cell_type": "code",
      "source": [
        "print(len(date), len(humidity))"
      ],
      "metadata": {
        "colab": {
          "base_uri": "https://localhost:8080/"
        },
        "id": "7RBgbSOoQyyo",
        "outputId": "896d3dd4-0ad2-4c3c-fe16-798c9b9dbfb2"
      },
      "execution_count": 18,
      "outputs": [
        {
          "output_type": "stream",
          "name": "stdout",
          "text": [
            "372 372\n"
          ]
        }
      ]
    },
    {
      "cell_type": "code",
      "source": [
        "humidity_df = pd.DataFrame(date,columns=['date'])\n",
        "humidity_df['humidity'] = humidity"
      ],
      "metadata": {
        "id": "mEOC45eVO1pV"
      },
      "execution_count": 19,
      "outputs": []
    },
    {
      "cell_type": "code",
      "source": [
        "humidity_df.to_csv('humidity_test.csv')"
      ],
      "metadata": {
        "id": "28X7O0bkQo9l"
      },
      "execution_count": 20,
      "outputs": []
    },
    {
      "cell_type": "markdown",
      "source": [
        "- ppt와 보고서에는 날씨 데이터는 기상청에서 크롤링했다 정도만 언급합시다\n"
      ],
      "metadata": {
        "id": "PVjZxNXfyuCk"
      }
    }
  ]
}